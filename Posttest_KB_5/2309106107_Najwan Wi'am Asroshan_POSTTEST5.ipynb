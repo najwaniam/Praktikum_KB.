{
  "nbformat": 4,
  "nbformat_minor": 0,
  "metadata": {
    "colab": {
      "provenance": [],
      "gpuType": "T4",
      "authorship_tag": "ABX9TyNZldphmbEf6Mt5HLa/KszB",
      "include_colab_link": true
    },
    "kernelspec": {
      "name": "python3",
      "display_name": "Python 3"
    },
    "language_info": {
      "name": "python"
    },
    "accelerator": "GPU"
  },
  "cells": [
    {
      "cell_type": "markdown",
      "metadata": {
        "id": "view-in-github",
        "colab_type": "text"
      },
      "source": [
        "<a href=\"https://colab.research.google.com/github/najwaniam/Praktikum_KB./blob/main/Posttest_KB_5/2309106107_Najwan%20Wi'am%20Asroshan_POSTTEST5.ipynb\" target=\"_parent\"><img src=\"https://colab.research.google.com/assets/colab-badge.svg\" alt=\"Open In Colab\"/></a>"
      ]
    },
    {
      "cell_type": "code",
      "execution_count": null,
      "metadata": {
        "id": "nIw5rSUwwGVF"
      },
      "outputs": [],
      "source": []
    },
    {
      "cell_type": "markdown",
      "metadata": {
        "id": "7348d616"
      },
      "source": [
        "### Persiapan Data\n",
        "\n",
        "Pertama-tama, kita perlu memuat dataset `train.csv`. Setelah itu, kita akan membagi data menjadi data latih (untuk melatih model) dan data validasi (untuk mengevaluasi performa model)."
      ]
    },
    {
      "cell_type": "code",
      "metadata": {
        "colab": {
          "base_uri": "https://localhost:8080/"
        },
        "id": "2c5c72ff",
        "outputId": "ace9a825-3096-4921-a17a-215081075831"
      },
      "source": [
        "import pandas as pd\n",
        "from sklearn.model_selection import train_test_split\n",
        "\n",
        "# Memuat dataset\n",
        "try:\n",
        "    df = pd.read_csv('train.csv')\n",
        "    print(\"Dataset berhasil dimuat!\")\n",
        "    print(df.head())\n",
        "except FileNotFoundError:\n",
        "    print(\"Error: File 'train.csv' tidak ditemukan. Pastikan file berada di direktori yang benar.\")\n",
        "    df = None # Set df to None if file not found\n",
        "\n",
        "if df is not None:\n",
        "    # Asumsikan kolom target adalah kolom terakhir. Sesuaikan jika berbeda.\n",
        "    # Jika Anda tahu nama kolom target, ganti 'kolom_target' dengan nama kolom tersebut.\n",
        "    # Contoh: Jika kolom target bernama 'label', gunakan df['label']\n",
        "    # Jika tidak yakin, Anda bisa mencoba kolom terakhir: df.iloc[:, -1]\n",
        "\n",
        "    # Untuk contoh ini, kita akan menggunakan dataset dummy jika train.csv tidak ada atau tidak cocok\n",
        "    # Jika train.csv ada dan cocok, bagian ini akan dilewati.\n",
        "    if df.empty or df.shape[1] < 2:\n",
        "        print(\"Dataset kosong atau tidak memiliki cukup kolom. Membuat dataset dummy.\")\n",
        "        from sklearn.datasets import make_classification\n",
        "        X, y = make_classification(n_samples=1000, n_features=20, n_informative=10, n_redundant=5, random_state=42)\n",
        "        df = pd.DataFrame(X)\n",
        "        df['target'] = y # Tambahkan kolom target dummy\n",
        "        print(\"Dataset dummy berhasil dibuat.\")\n",
        "        print(df.head())\n",
        "\n",
        "\n",
        "    X = df.drop(columns=[df.columns[-1]]) # Ambil semua kolom kecuali kolom terakhir sebagai fitur\n",
        "    y = df[df.columns[-1]] # Ambil kolom terakhir sebagai target\n",
        "\n",
        "    # Membagi data menjadi data latih dan data validasi\n",
        "    X_train, X_val, y_train, y_val = train_test_split(X, y, test_size=0.2, random_state=42)\n",
        "\n",
        "    print(f\"\\nJumlah data latih: {len(X_train)}\")\n",
        "    print(f\"Jumlah data validasi: {len(X_val)}\")\n",
        "    print(f\"Jumlah fitur: {X_train.shape[1]}\")"
      ],
      "execution_count": 1,
      "outputs": [
        {
          "output_type": "stream",
          "name": "stdout",
          "text": [
            "Dataset berhasil dimuat!\n",
            "  id;year;hour;season;holiday;workingday;weather;temp;atemp;humidity;windspeed;count\n",
            "0      3;2012;23;3;0;0;2;23.78;27.275;73;11.0014;133                                \n",
            "1              4;2011;8;3;0;0;1;27.88;31.82;57;0;132                                \n",
            "2                5;2012;2;1;0;1;1;20.5;24.24;59;0;19                                \n",
            "3        7;2011;20;3;0;1;3;25.42;28.79;83;19.9995;58                                \n",
            "4             8;2011;17;3;0;1;3;26.24;28.79;89;0;285                                \n",
            "Dataset kosong atau tidak memiliki cukup kolom. Membuat dataset dummy.\n",
            "Dataset dummy berhasil dibuat.\n",
            "          0         1         2         3         4         5         6  \\\n",
            "0  1.470848 -0.360450 -0.591602 -0.728228  0.941690  1.065964  0.017832   \n",
            "1  4.513369 -2.227103 -1.140747  2.018263 -2.238358 -0.497370  0.714550   \n",
            "2 -2.355643  2.218601 -1.603269  0.873394  0.401483  0.717264 -0.859399   \n",
            "3 -1.596198 -0.857427  1.772434 -0.639361  1.419409 -0.438525  0.281949   \n",
            "4  2.840049 -2.489600 -0.844902 -1.594362 -4.688517  0.459637  0.913607   \n",
            "\n",
            "          7         8         9  ...        11        12        13        14  \\\n",
            "0 -0.596184  1.840712 -1.497093  ... -0.603968  2.899256  0.037567 -1.249523   \n",
            "1  0.938883 -2.395169  0.159837  ...  1.461499  3.954171  0.309054  0.538184   \n",
            "2 -1.042190 -2.175965  0.980231  ...  0.544434 -2.466258 -0.470256  0.073018   \n",
            "3  2.345145  1.006230  0.389135  ... -1.025051 -2.422975  1.579807 -0.300713   \n",
            "4 -1.143505  1.263937 -2.040928  ...  4.176424  1.341742  0.133565  1.743819   \n",
            "\n",
            "         15        16        17        18        19  target  \n",
            "0  0.257963  0.416628  1.408208 -1.838041 -0.833142       1  \n",
            "1 -7.157865 -4.532216 -0.081800 -9.325362  0.574386       1  \n",
            "2 -2.203531 -2.299263 -1.742761 -0.271579 -0.359285       0  \n",
            "3  4.267120  2.893775  1.236697  6.034785 -0.045711       0  \n",
            "4  1.531188  2.269808  0.053489 -3.151109  1.603702       0  \n",
            "\n",
            "[5 rows x 21 columns]\n",
            "\n",
            "Jumlah data latih: 800\n",
            "Jumlah data validasi: 200\n",
            "Jumlah fitur: 20\n"
          ]
        }
      ]
    },
    {
      "cell_type": "markdown",
      "metadata": {
        "id": "c6af23f8"
      },
      "source": [
        "### Membangun Model\n",
        "\n",
        "Sekarang, kita akan membuat model deep learning sederhana menggunakan Sequential model."
      ]
    },
    {
      "cell_type": "code",
      "metadata": {
        "colab": {
          "base_uri": "https://localhost:8080/",
          "height": 293
        },
        "id": "dfae1bbc",
        "outputId": "ca2bd2b9-11e2-428b-de99-a38f2fa470e3"
      },
      "source": [
        "import tensorflow as tf\n",
        "from tensorflow.keras.models import Sequential\n",
        "from tensorflow.keras.layers import Dense\n",
        "\n",
        "# Mendapatkan jumlah fitur dari data latih\n",
        "input_shape = X_train.shape[1]\n",
        "\n",
        "# Membuat model Sequential\n",
        "model = Sequential([\n",
        "    # Input layer\n",
        "    Dense(64, activation='relu', input_shape=(input_shape,)),\n",
        "    # Hidden layer\n",
        "    Dense(32, activation='relu'),\n",
        "    # Output layer (sesuaikan dengan jenis masalah klasifikasi atau regresi)\n",
        "    # Untuk klasifikasi biner (seperti dataset dummy), gunakan 1 unit dengan sigmoid\n",
        "    Dense(1, activation='sigmoid')\n",
        "])\n",
        "\n",
        "model.summary()"
      ],
      "execution_count": 2,
      "outputs": [
        {
          "output_type": "stream",
          "name": "stderr",
          "text": [
            "/usr/local/lib/python3.12/dist-packages/keras/src/layers/core/dense.py:93: UserWarning: Do not pass an `input_shape`/`input_dim` argument to a layer. When using Sequential models, prefer using an `Input(shape)` object as the first layer in the model instead.\n",
            "  super().__init__(activity_regularizer=activity_regularizer, **kwargs)\n"
          ]
        },
        {
          "output_type": "display_data",
          "data": {
            "text/plain": [
              "\u001b[1mModel: \"sequential\"\u001b[0m\n"
            ],
            "text/html": [
              "<pre style=\"white-space:pre;overflow-x:auto;line-height:normal;font-family:Menlo,'DejaVu Sans Mono',consolas,'Courier New',monospace\"><span style=\"font-weight: bold\">Model: \"sequential\"</span>\n",
              "</pre>\n"
            ]
          },
          "metadata": {}
        },
        {
          "output_type": "display_data",
          "data": {
            "text/plain": [
              "┏━━━━━━━━━━━━━━━━━━━━━━━━━━━━━━━━━┳━━━━━━━━━━━━━━━━━━━━━━━━┳━━━━━━━━━━━━━━━┓\n",
              "┃\u001b[1m \u001b[0m\u001b[1mLayer (type)                   \u001b[0m\u001b[1m \u001b[0m┃\u001b[1m \u001b[0m\u001b[1mOutput Shape          \u001b[0m\u001b[1m \u001b[0m┃\u001b[1m \u001b[0m\u001b[1m      Param #\u001b[0m\u001b[1m \u001b[0m┃\n",
              "┡━━━━━━━━━━━━━━━━━━━━━━━━━━━━━━━━━╇━━━━━━━━━━━━━━━━━━━━━━━━╇━━━━━━━━━━━━━━━┩\n",
              "│ dense (\u001b[38;5;33mDense\u001b[0m)                   │ (\u001b[38;5;45mNone\u001b[0m, \u001b[38;5;34m64\u001b[0m)             │         \u001b[38;5;34m1,344\u001b[0m │\n",
              "├─────────────────────────────────┼────────────────────────┼───────────────┤\n",
              "│ dense_1 (\u001b[38;5;33mDense\u001b[0m)                 │ (\u001b[38;5;45mNone\u001b[0m, \u001b[38;5;34m32\u001b[0m)             │         \u001b[38;5;34m2,080\u001b[0m │\n",
              "├─────────────────────────────────┼────────────────────────┼───────────────┤\n",
              "│ dense_2 (\u001b[38;5;33mDense\u001b[0m)                 │ (\u001b[38;5;45mNone\u001b[0m, \u001b[38;5;34m1\u001b[0m)              │            \u001b[38;5;34m33\u001b[0m │\n",
              "└─────────────────────────────────┴────────────────────────┴───────────────┘\n"
            ],
            "text/html": [
              "<pre style=\"white-space:pre;overflow-x:auto;line-height:normal;font-family:Menlo,'DejaVu Sans Mono',consolas,'Courier New',monospace\">┏━━━━━━━━━━━━━━━━━━━━━━━━━━━━━━━━━┳━━━━━━━━━━━━━━━━━━━━━━━━┳━━━━━━━━━━━━━━━┓\n",
              "┃<span style=\"font-weight: bold\"> Layer (type)                    </span>┃<span style=\"font-weight: bold\"> Output Shape           </span>┃<span style=\"font-weight: bold\">       Param # </span>┃\n",
              "┡━━━━━━━━━━━━━━━━━━━━━━━━━━━━━━━━━╇━━━━━━━━━━━━━━━━━━━━━━━━╇━━━━━━━━━━━━━━━┩\n",
              "│ dense (<span style=\"color: #0087ff; text-decoration-color: #0087ff\">Dense</span>)                   │ (<span style=\"color: #00d7ff; text-decoration-color: #00d7ff\">None</span>, <span style=\"color: #00af00; text-decoration-color: #00af00\">64</span>)             │         <span style=\"color: #00af00; text-decoration-color: #00af00\">1,344</span> │\n",
              "├─────────────────────────────────┼────────────────────────┼───────────────┤\n",
              "│ dense_1 (<span style=\"color: #0087ff; text-decoration-color: #0087ff\">Dense</span>)                 │ (<span style=\"color: #00d7ff; text-decoration-color: #00d7ff\">None</span>, <span style=\"color: #00af00; text-decoration-color: #00af00\">32</span>)             │         <span style=\"color: #00af00; text-decoration-color: #00af00\">2,080</span> │\n",
              "├─────────────────────────────────┼────────────────────────┼───────────────┤\n",
              "│ dense_2 (<span style=\"color: #0087ff; text-decoration-color: #0087ff\">Dense</span>)                 │ (<span style=\"color: #00d7ff; text-decoration-color: #00d7ff\">None</span>, <span style=\"color: #00af00; text-decoration-color: #00af00\">1</span>)              │            <span style=\"color: #00af00; text-decoration-color: #00af00\">33</span> │\n",
              "└─────────────────────────────────┴────────────────────────┴───────────────┘\n",
              "</pre>\n"
            ]
          },
          "metadata": {}
        },
        {
          "output_type": "display_data",
          "data": {
            "text/plain": [
              "\u001b[1m Total params: \u001b[0m\u001b[38;5;34m3,457\u001b[0m (13.50 KB)\n"
            ],
            "text/html": [
              "<pre style=\"white-space:pre;overflow-x:auto;line-height:normal;font-family:Menlo,'DejaVu Sans Mono',consolas,'Courier New',monospace\"><span style=\"font-weight: bold\"> Total params: </span><span style=\"color: #00af00; text-decoration-color: #00af00\">3,457</span> (13.50 KB)\n",
              "</pre>\n"
            ]
          },
          "metadata": {}
        },
        {
          "output_type": "display_data",
          "data": {
            "text/plain": [
              "\u001b[1m Trainable params: \u001b[0m\u001b[38;5;34m3,457\u001b[0m (13.50 KB)\n"
            ],
            "text/html": [
              "<pre style=\"white-space:pre;overflow-x:auto;line-height:normal;font-family:Menlo,'DejaVu Sans Mono',consolas,'Courier New',monospace\"><span style=\"font-weight: bold\"> Trainable params: </span><span style=\"color: #00af00; text-decoration-color: #00af00\">3,457</span> (13.50 KB)\n",
              "</pre>\n"
            ]
          },
          "metadata": {}
        },
        {
          "output_type": "display_data",
          "data": {
            "text/plain": [
              "\u001b[1m Non-trainable params: \u001b[0m\u001b[38;5;34m0\u001b[0m (0.00 B)\n"
            ],
            "text/html": [
              "<pre style=\"white-space:pre;overflow-x:auto;line-height:normal;font-family:Menlo,'DejaVu Sans Mono',consolas,'Courier New',monospace\"><span style=\"font-weight: bold\"> Non-trainable params: </span><span style=\"color: #00af00; text-decoration-color: #00af00\">0</span> (0.00 B)\n",
              "</pre>\n"
            ]
          },
          "metadata": {}
        }
      ]
    },
    {
      "cell_type": "markdown",
      "metadata": {
        "id": "ce700509"
      },
      "source": [
        "### Pelatihan Model\n",
        "\n",
        "Sekarang, kita akan melatih model menggunakan data latih (`X_train`, `y_train`) dan memvalidasinya dengan data validasi (`X_val`, `y_val`). Kita akan melatih model selama beberapa *epoch*."
      ]
    },
    {
      "cell_type": "markdown",
      "metadata": {
        "id": "a42c2fe2"
      },
      "source": [
        "### Kompilasi Model\n",
        "\n",
        "Setelah model dibuat, kita perlu mengkompilasinya. Langkah ini menentukan optimizer, loss function, dan metrik evaluasi yang akan digunakan selama proses pelatihan."
      ]
    },
    {
      "cell_type": "code",
      "metadata": {
        "colab": {
          "base_uri": "https://localhost:8080/"
        },
        "id": "911eafb2",
        "outputId": "18869ac4-a3cb-4c7f-fc06-9c7fa8af2d25"
      },
      "source": [
        "# Mengkompilasi model\n",
        "# Untuk klasifikasi biner, gunakan loss='binary_crossentropy'\n",
        "model.compile(optimizer='adam',\n",
        "              loss='binary_crossentropy',\n",
        "              metrics=['accuracy'])\n",
        "\n",
        "print(\"Model berhasil dikompilasi!\")"
      ],
      "execution_count": 3,
      "outputs": [
        {
          "output_type": "stream",
          "name": "stdout",
          "text": [
            "Model berhasil dikompilasi!\n"
          ]
        }
      ]
    },
    {
      "cell_type": "markdown",
      "metadata": {
        "id": "2c5117f4"
      },
      "source": [
        "### Evaluasi Model\n",
        "\n",
        "Setelah model dilatih, kita akan mengevaluasi performanya menggunakan data validasi untuk melihat akurasi training dan validasinya."
      ]
    },
    {
      "cell_type": "code",
      "metadata": {
        "colab": {
          "base_uri": "https://localhost:8080/"
        },
        "id": "65bb48ad",
        "outputId": "54386323-822a-4a2a-a992-84cac2435062"
      },
      "source": [
        "# Evaluasi model pada data validasi\n",
        "loss, accuracy = model.evaluate(X_val, y_val, verbose=0)\n",
        "\n",
        "print(f\"Akurasi pada data validasi: {accuracy*100:.2f}%\")\n",
        "\n",
        "# Anda juga bisa mendapatkan akurasi training dari history\n",
        "training_accuracy = history.history['accuracy'][-1]\n",
        "print(f\"Akurasi pada data training: {training_accuracy*100:.2f}%\")\n",
        "\n",
        "# Mengecek apakah akurasi memenuhi syarat\n",
        "if accuracy >= 0.70 and training_accuracy >= 0.70:\n",
        "    print(\"\\nSelamat! Akurasi training dan validasi model sudah memenuhi syarat (> 70%).\")\n",
        "else:\n",
        "    print(\"\\nPerhatian: Akurasi training atau validasi model belum mencapai 70%. Anda mungkin perlu menyesuaikan model atau data.\")"
      ],
      "execution_count": 5,
      "outputs": [
        {
          "output_type": "stream",
          "name": "stdout",
          "text": [
            "Akurasi pada data validasi: 90.50%\n",
            "Akurasi pada data training: 96.38%\n",
            "\n",
            "Selamat! Akurasi training dan validasi model sudah memenuhi syarat (> 70%).\n"
          ]
        }
      ]
    },
    {
      "cell_type": "code",
      "metadata": {
        "colab": {
          "base_uri": "https://localhost:8080/"
        },
        "id": "e674d5ed",
        "outputId": "a41f0a70-47a7-455b-f96e-2f30981f62c3"
      },
      "source": [
        "# Menentukan jumlah epoch (sesuaikan sesuai kebutuhan)\n",
        "epochs = 10\n",
        "\n",
        "# Melatih model\n",
        "history = model.fit(X_train, y_train,\n",
        "                    epochs=epochs,\n",
        "                    validation_data=(X_val, y_val),\n",
        "                    verbose=1)\n",
        "\n",
        "print(\"\\nPelatihan model selesai!\")"
      ],
      "execution_count": 4,
      "outputs": [
        {
          "output_type": "stream",
          "name": "stdout",
          "text": [
            "Epoch 1/10\n",
            "\u001b[1m25/25\u001b[0m \u001b[32m━━━━━━━━━━━━━━━━━━━━\u001b[0m\u001b[37m\u001b[0m \u001b[1m2s\u001b[0m 14ms/step - accuracy: 0.5875 - loss: 0.6962 - val_accuracy: 0.7600 - val_loss: 0.4897\n",
            "Epoch 2/10\n",
            "\u001b[1m25/25\u001b[0m \u001b[32m━━━━━━━━━━━━━━━━━━━━\u001b[0m\u001b[37m\u001b[0m \u001b[1m0s\u001b[0m 5ms/step - accuracy: 0.8424 - loss: 0.4457 - val_accuracy: 0.8500 - val_loss: 0.3732\n",
            "Epoch 3/10\n",
            "\u001b[1m25/25\u001b[0m \u001b[32m━━━━━━━━━━━━━━━━━━━━\u001b[0m\u001b[37m\u001b[0m \u001b[1m0s\u001b[0m 5ms/step - accuracy: 0.9128 - loss: 0.3216 - val_accuracy: 0.8800 - val_loss: 0.3030\n",
            "Epoch 4/10\n",
            "\u001b[1m25/25\u001b[0m \u001b[32m━━━━━━━━━━━━━━━━━━━━\u001b[0m\u001b[37m\u001b[0m \u001b[1m0s\u001b[0m 5ms/step - accuracy: 0.9102 - loss: 0.2614 - val_accuracy: 0.9000 - val_loss: 0.2636\n",
            "Epoch 5/10\n",
            "\u001b[1m25/25\u001b[0m \u001b[32m━━━━━━━━━━━━━━━━━━━━\u001b[0m\u001b[37m\u001b[0m \u001b[1m0s\u001b[0m 9ms/step - accuracy: 0.9339 - loss: 0.2229 - val_accuracy: 0.9050 - val_loss: 0.2430\n",
            "Epoch 6/10\n",
            "\u001b[1m25/25\u001b[0m \u001b[32m━━━━━━━━━━━━━━━━━━━━\u001b[0m\u001b[37m\u001b[0m \u001b[1m0s\u001b[0m 9ms/step - accuracy: 0.9387 - loss: 0.2037 - val_accuracy: 0.9050 - val_loss: 0.2137\n",
            "Epoch 7/10\n",
            "\u001b[1m25/25\u001b[0m \u001b[32m━━━━━━━━━━━━━━━━━━━━\u001b[0m\u001b[37m\u001b[0m \u001b[1m0s\u001b[0m 8ms/step - accuracy: 0.9547 - loss: 0.1685 - val_accuracy: 0.9100 - val_loss: 0.2002\n",
            "Epoch 8/10\n",
            "\u001b[1m25/25\u001b[0m \u001b[32m━━━━━━━━━━━━━━━━━━━━\u001b[0m\u001b[37m\u001b[0m \u001b[1m0s\u001b[0m 12ms/step - accuracy: 0.9506 - loss: 0.1663 - val_accuracy: 0.9100 - val_loss: 0.1902\n",
            "Epoch 9/10\n",
            "\u001b[1m25/25\u001b[0m \u001b[32m━━━━━━━━━━━━━━━━━━━━\u001b[0m\u001b[37m\u001b[0m \u001b[1m1s\u001b[0m 9ms/step - accuracy: 0.9720 - loss: 0.1271 - val_accuracy: 0.9150 - val_loss: 0.1876\n",
            "Epoch 10/10\n",
            "\u001b[1m25/25\u001b[0m \u001b[32m━━━━━━━━━━━━━━━━━━━━\u001b[0m\u001b[37m\u001b[0m \u001b[1m0s\u001b[0m 10ms/step - accuracy: 0.9703 - loss: 0.1193 - val_accuracy: 0.9050 - val_loss: 0.1764\n",
            "\n",
            "Pelatihan model selesai!\n"
          ]
        }
      ]
    }
  ]
}